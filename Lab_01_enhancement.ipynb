{
  "nbformat": 4,
  "nbformat_minor": 0,
  "metadata": {
    "colab": {
      "provenance": []
    },
    "kernelspec": {
      "name": "python3",
      "display_name": "Python 3"
    },
    "language_info": {
      "name": "python"
    }
  },
  "cells": [
    {
      "cell_type": "markdown",
      "source": [
        "**<font size=48>Machine Learning</font>**<br>\n",
        "\n",
        "LAB 01- Using keras with MNIST dataset\n",
        "\n",
        "Modified National Institute of Standards and Technology database(MNIST) is a large dataset which is normally used in Computer vision tasks such as image processing as it consists of various handwritten digits.\n",
        "\n",
        "In this lab we shall use this dataset with keras in order to build and train Convolutional Neural Networks(CNNS)"
      ],
      "metadata": {
        "id": "Cb14b7iijYPk"
      }
    },
    {
      "cell_type": "code",
      "source": [
        "# This is needed if you need to read data from your Google Drive\n",
        "from google.colab import drive\n",
        "drive.mount('/content/drive')"
      ],
      "metadata": {
        "colab": {
          "base_uri": "https://localhost:8080/"
        },
        "id": "Lr13jn9tjaTR",
        "outputId": "24bf0b20-3a7a-4bbe-afa9-e9a1b2cb8040"
      },
      "execution_count": 1,
      "outputs": [
        {
          "output_type": "stream",
          "name": "stdout",
          "text": [
            "Mounted at /content/drive\n"
          ]
        }
      ]
    },
    {
      "cell_type": "markdown",
      "source": [
        "IMPORT LIBRARIES"
      ],
      "metadata": {
        "id": "Jw2eJS06oMAG"
      }
    },
    {
      "cell_type": "code",
      "source": [
        "from keras.datasets import mnist\n",
        "from keras.preprocessing.image import load_img, array_to_img\n",
        "from keras.utils import to_categorical\n",
        "from keras.models import Sequential\n",
        "from keras.layers import Dense\n",
        "\n",
        "import numpy as np\n",
        "import matplotlib.pyplot as plt\n",
        "%matplotlib inline\n",
        "\n",
        "import pandas as pd\n",
        "from sklearn.model_selection import train_test_split\n",
        "from keras.layers import Dense, Dropout, Flatten, Conv2D, MaxPool2D, BatchNormalization\n",
        "from keras.preprocessing.image import ImageDataGenerator\n",
        "from keras.callbacks import LearningRateScheduler"
      ],
      "metadata": {
        "id": "SI0hrxIAjgdj"
      },
      "execution_count": 2,
      "outputs": []
    },
    {
      "cell_type": "markdown",
      "source": [
        "**LOADING THE MNIST DATASET**"
      ],
      "metadata": {
        "id": "2WtCW0rUpzSh"
      }
    },
    {
      "cell_type": "code",
      "execution_count": 3,
      "metadata": {
        "id": "61bQ7yeKjHYX",
        "colab": {
          "base_uri": "https://localhost:8080/"
        },
        "outputId": "bbfba31a-0777-4487-f14e-9befc9caace2"
      },
      "outputs": [
        {
          "output_type": "stream",
          "name": "stdout",
          "text": [
            "Downloading data from https://storage.googleapis.com/tensorflow/tf-keras-datasets/mnist.npz\n",
            "11490434/11490434 [==============================] - 0s 0us/step\n"
          ]
        }
      ],
      "source": [
        "(X_train, y_train), (X_test, y_test) = mnist.load_data()"
      ]
    },
    {
      "cell_type": "markdown",
      "source": [
        "**CHECK THE SIZE AND DIMENSIONS OF THE MNIST DATASET**"
      ],
      "metadata": {
        "id": "isMC8GKlqizX"
      }
    },
    {
      "cell_type": "code",
      "source": [
        "#Dimension of X_train[0]\n",
        "print(\"Dimension of X_train[0]:\", X_train[0].shape)\n",
        "\n",
        "# Print the size of y_train and y_test\n",
        "print(\"Size of y_train:\", len(y_train))\n",
        "print(\"Size of y_test:\", len(y_test))\n"
      ],
      "metadata": {
        "colab": {
          "base_uri": "https://localhost:8080/"
        },
        "id": "_tKQVnBaqHmI",
        "outputId": "c09bd906-d69c-430d-da39-df55e5c6562c"
      },
      "execution_count": 4,
      "outputs": [
        {
          "output_type": "stream",
          "name": "stdout",
          "text": [
            "Dimension of X_train[0]: (28, 28)\n",
            "Size of y_train: 60000\n",
            "Size of y_test: 10000\n"
          ]
        }
      ]
    },
    {
      "cell_type": "markdown",
      "source": [
        "**PREVIEW OF THE DATASET**"
      ],
      "metadata": {
        "id": "9oDS4UC-qeUr"
      }
    },
    {
      "cell_type": "code",
      "source": [
        "fig, axes = plt.subplots(2, 5, figsize=(10, 4))\n",
        "\n",
        "# Flatten the axes array for easier indexing\n",
        "axes = axes.flatten()\n",
        "#loop\n",
        "for i in range(10):\n",
        "    axes[i].imshow(X_train[i], cmap=\"gray\")\n",
        "    axes[i].set_title(\"Index \" + str(i))\n",
        "    axes[i].axis(\"off\")\n",
        "\n",
        "plt.tight_layout()\n",
        "plt.show()\n"
      ],
      "metadata": {
        "colab": {
          "base_uri": "https://localhost:8080/",
          "height": 410
        },
        "id": "CcMSLJDXqZOj",
        "outputId": "79de809b-a2e2-43fd-d999-62908d8e80fa"
      },
      "execution_count": 5,
      "outputs": [
        {
          "output_type": "display_data",
          "data": {
            "text/plain": [
              "<Figure size 1000x400 with 10 Axes>"
            ],
            "image/png": "[encoded data removed]"
          },
          "metadata": {}
        }
      ]
    },
    {
      "cell_type": "markdown",
      "source": [
        "**PREPROCESSING OF THE MNIST DATASET**"
      ],
      "metadata": {
        "id": "4kyAEMVZq6X3"
      }
    },
    {
      "cell_type": "code",
      "source": [
        "# Get image dimensions\n",
        "image_height, image_width = X_train[0].shape\n",
        "num_of_training_images = len(y_train)\n",
        "num_of_testing_images = len(y_test)\n",
        "print(\"Image Dimensions:\")\n",
        "print(f\"  Height: {image_height}\")\n",
        "print(f\"  Width: {image_width}\")\n",
        "\n",
        "print(\"\\nNumber of Images:\")\n",
        "print(f\"  Training: {num_of_training_images}\")\n",
        "print(f\"  Testing: {num_of_testing_images}\")\n"
      ],
      "metadata": {
        "colab": {
          "base_uri": "https://localhost:8080/"
        },
        "id": "h_YfG9wBrAvv",
        "outputId": "79c634e2-01b9-464e-9050-24c113b7772f"
      },
      "execution_count": 6,
      "outputs": [
        {
          "output_type": "stream",
          "name": "stdout",
          "text": [
            "Image Dimensions:\n",
            "  Height: 28\n",
            "  Width: 28\n",
            "\n",
            "Number of Images:\n",
            "  Training: 60000\n",
            "  Testing: 10000\n"
          ]
        }
      ]
    },
    {
      "cell_type": "code",
      "source": [
        "# Reshape the training and testing data to flatten the images\n",
        "# Flattening is necessary for many machine learning algorithms that expect 1D input\n",
        "# The new shape is (number of images, image_height * image_width)\n",
        "X_train = X_train.reshape(num_of_training_images, image_height * image_width)\n",
        "X_test = X_test.reshape(num_of_testing_images, image_height * image_width)\n",
        "\n",
        "# Print the shapes of the reshaped data\n",
        "# This helps to confirm that the reshaping was successful\n",
        "print(\"Shapes after reshaping:\")\n",
        "print(f\"  X_train: {X_train.shape}\")\n",
        "print(f\"  X_test:  {X_test.shape}\")\n"
      ],
      "metadata": {
        "colab": {
          "base_uri": "https://localhost:8080/"
        },
        "id": "xfg30uKkrY2N",
        "outputId": "2bf0827e-7747-441b-db34-87e74f498a0c"
      },
      "execution_count": 7,
      "outputs": [
        {
          "output_type": "stream",
          "name": "stdout",
          "text": [
            "Shapes after reshaping:\n",
            "  X_train: (60000, 784)\n",
            "  X_test:  (10000, 784)\n"
          ]
        }
      ]
    },
    {
      "cell_type": "code",
      "source": [
        "print(X_train[8].shape)"
      ],
      "metadata": {
        "colab": {
          "base_uri": "https://localhost:8080/"
        },
        "id": "BLsoXHP6rgs3",
        "outputId": "b85cb28b-f075-412b-8dbf-e951e4968bd2"
      },
      "execution_count": 8,
      "outputs": [
        {
          "output_type": "stream",
          "name": "stdout",
          "text": [
            "(784,)\n"
          ]
        }
      ]
    },
    {
      "cell_type": "code",
      "source": [
        "print(X_train[8])"
      ],
      "metadata": {
        "colab": {
          "base_uri": "https://localhost:8080/"
        },
        "id": "5WPimjmcrkkC",
        "outputId": "7a28e349-c006-4a31-f5bc-9976ec6a78b0"
      },
      "execution_count": 9,
      "outputs": [
        {
          "output_type": "stream",
          "name": "stdout",
          "text": [
            "[  0   0   0   0   0   0   0   0   0   0   0   0   0   0   0   0   0   0\n",
            "   0   0   0   0   0   0   0   0   0   0   0   0   0   0   0   0   0   0\n",
            "   0   0   0   0   0   0   0   0   0   0   0   0   0   0   0   0   0   0\n",
            "   0   0   0   0   0   0   0   0   0   0   0   0   0   0   0   0   0   0\n",
            "   0   0   0   0   0   0   0   0   0   0   0   0   0   0   0   0   0   0\n",
            "   0   0   0   0   0   0   0   0   0   0   0   0   0   0   0   0   0   0\n",
            "   0   0   0   0   0   0   0   0   0   0   0   0   0   0   0   0   0   0\n",
            "   0   0   0   0   0   0   0   0   0   0   0   0   0   0   0   0   0   0\n",
            "   0   0   0   0   0   0   0   0   5  63 197   0   0   0   0   0   0   0\n",
            "   0   0   0   0   0   0   0   0   0   0   0   0   0   0   0   0   0   0\n",
            "  20 254 230  24   0   0   0   0   0   0   0   0   0   0   0   0   0   0\n",
            "   0   0   0   0   0   0   0   0   0   0  20 254 254  48   0   0   0   0\n",
            "   0   0   0   0   0   0   0   0   0   0   0   0   0   0   0   0   0   0\n",
            "   0   0  20 254 255  48   0   0   0   0   0   0   0   0   0   0   0   0\n",
            "   0   0   0   0   0   0   0   0   0   0   0   0  20 254 254  57   0   0\n",
            "   0   0   0   0   0   0   0   0   0   0   0   0   0   0   0   0   0   0\n",
            "   0   0   0   0  20 254 254 108   0   0   0   0   0   0   0   0   0   0\n",
            "   0   0   0   0   0   0   0   0   0   0   0   0   0   0  16 239 254 143\n",
            "   0   0   0   0   0   0   0   0   0   0   0   0   0   0   0   0   0   0\n",
            "   0   0   0   0   0   0   0 178 254 143   0   0   0   0   0   0   0   0\n",
            "   0   0   0   0   0   0   0   0   0   0   0   0   0   0   0   0   0 178\n",
            " 254 143   0   0   0   0   0   0   0   0   0   0   0   0   0   0   0   0\n",
            "   0   0   0   0   0   0   0   0   0 178 254 162   0   0   0   0   0   0\n",
            "   0   0   0   0   0   0   0   0   0   0   0   0   0   0   0   0   0   0\n",
            "   0 178 254 240   0   0   0   0   0   0   0   0   0   0   0   0   0   0\n",
            "   0   0   0   0   0   0   0   0   0   0   0 113 254 240   0   0   0   0\n",
            "   0   0   0   0   0   0   0   0   0   0   0   0   0   0   0   0   0   0\n",
            "   0   0   0  83 254 245  31   0   0   0   0   0   0   0   0   0   0   0\n",
            "   0   0   0   0   0   0   0   0   0   0   0   0   0  79 254 246  38   0\n",
            "   0   0   0   0   0   0   0   0   0   0   0   0   0   0   0   0   0   0\n",
            "   0   0   0   0   0   0 214 254 150   0   0   0   0   0   0   0   0   0\n",
            "   0   0   0   0   0   0   0   0   0   0   0   0   0   0   0   0 144 241\n",
            "   8   0   0   0   0   0   0   0   0   0   0   0   0   0   0   0   0   0\n",
            "   0   0   0   0   0   0   0   0 144 240   2   0   0   0   0   0   0   0\n",
            "   0   0   0   0   0   0   0   0   0   0   0   0   0   0   0   0   0   0\n",
            " 144 254  82   0   0   0   0   0   0   0   0   0   0   0   0   0   0   0\n",
            "   0   0   0   0   0   0   0   0   0   0 230 247  40   0   0   0   0   0\n",
            "   0   0   0   0   0   0   0   0   0   0   0   0   0   0   0   0   0   0\n",
            "   0   0 168 209  31   0   0   0   0   0   0   0   0   0   0   0   0   0\n",
            "   0   0   0   0   0   0   0   0   0   0   0   0   0   0   0   0   0   0\n",
            "   0   0   0   0   0   0   0   0   0   0   0   0   0   0   0   0   0   0\n",
            "   0   0   0   0   0   0   0   0   0   0   0   0   0   0   0   0   0   0\n",
            "   0   0   0   0   0   0   0   0   0   0   0   0   0   0   0   0   0   0\n",
            "   0   0   0   0   0   0   0   0   0   0]\n"
          ]
        }
      ]
    },
    {
      "cell_type": "markdown",
      "source": [
        "**NORMALIZE THE MNIST DATASET**"
      ],
      "metadata": {
        "id": "lIP7aamXr5Mb"
      }
    },
    {
      "cell_type": "code",
      "source": [
        "# Convert the data type of training and testing data to float32\n",
        "# This is typically done to ensure compatibility with certain machine learning algorithms\n",
        "X_train = X_train.astype(\"float32\")\n",
        "X_test = X_test.astype(\"float32\")\n",
        "\n",
        "# Scale the pixel values to a range between 0 and 1\n",
        "# This is commonly done to ensure numerical stability and faster convergence during training\n",
        "X_train /= 255.0\n",
        "X_test /= 255.0\n",
        "\n",
        "# Print the shape and content of the first training sample after scaling\n",
        "# This helps to confirm that the scaling was successful\n",
        "print(\"Shape of the first training sample after scaling:\", X_train[0].shape)\n",
        "print(\"Content of the first training sample after scaling:\")\n",
        "print(X_train[0])\n"
      ],
      "metadata": {
        "colab": {
          "base_uri": "https://localhost:8080/"
        },
        "id": "KLkfx8Tjr10c",
        "outputId": "54143997-cf56-44a1-f649-0fb2b840e77d"
      },
      "execution_count": 10,
      "outputs": [
        {
          "output_type": "stream",
          "name": "stdout",
          "text": [
            "Shape of the first training sample after scaling: (784,)\n",
            "Content of the first training sample after scaling:\n",
            "[0.         0.         0.         0.         0.         0.\n",
            " 0.         0.         0.         0.         0.         0.\n",
            " 0.         0.         0.         0.         0.         0.\n",
            " 0.         0.         0.         0.         0.         0.\n",
            " 0.         0.         0.         0.         0.         0.\n",
            " 0.         0.         0.         0.         0.         0.\n",
            " 0.         0.         0.         0.         0.         0.\n",
            " 0.         0.         0.         0.         0.         0.\n",
            " 0.         0.         0.         0.         0.         0.\n",
            " 0.         0.         0.         0.         0.         0.\n",
            " 0.         0.         0.         0.         0.         0.\n",
            " 0.         0.         0.         0.         0.         0.\n",
            " 0.         0.         0.         0.         0.         0.\n",
            " 0.         0.         0.         0.         0.         0.\n",
            " 0.         0.         0.         0.         0.         0.\n",
            " 0.         0.         0.         0.         0.         0.\n",
            " 0.         0.         0.         0.         0.         0.\n",
            " 0.         0.         0.         0.         0.         0.\n",
            " 0.         0.         0.         0.         0.         0.\n",
            " 0.         0.         0.         0.         0.         0.\n",
            " 0.         0.         0.         0.         0.         0.\n",
            " 0.         0.         0.         0.         0.         0.\n",
            " 0.         0.         0.         0.         0.         0.\n",
            " 0.         0.         0.         0.         0.         0.\n",
            " 0.         0.         0.         0.         0.         0.\n",
            " 0.         0.         0.01176471 0.07058824 0.07058824 0.07058824\n",
            " 0.49411765 0.53333336 0.6862745  0.10196079 0.6509804  1.\n",
            " 0.96862745 0.49803922 0.         0.         0.         0.\n",
            " 0.         0.         0.         0.         0.         0.\n",
            " 0.         0.         0.11764706 0.14117648 0.36862746 0.6039216\n",
            " 0.6666667  0.99215686 0.99215686 0.99215686 0.99215686 0.99215686\n",
            " 0.88235295 0.6745098  0.99215686 0.9490196  0.7647059  0.2509804\n",
            " 0.         0.         0.         0.         0.         0.\n",
            " 0.         0.         0.         0.         0.         0.19215687\n",
            " 0.93333334 0.99215686 0.99215686 0.99215686 0.99215686 0.99215686\n",
            " 0.99215686 0.99215686 0.99215686 0.9843137  0.3647059  0.32156864\n",
            " 0.32156864 0.21960784 0.15294118 0.         0.         0.\n",
            " 0.         0.         0.         0.         0.         0.\n",
            " 0.         0.         0.         0.07058824 0.85882354 0.99215686\n",
            " 0.99215686 0.99215686 0.99215686 0.99215686 0.7764706  0.7137255\n",
            " 0.96862745 0.94509804 0.         0.         0.         0.\n",
            " 0.         0.         0.         0.         0.         0.\n",
            " 0.         0.         0.         0.         0.         0.\n",
            " 0.         0.         0.3137255  0.6117647  0.41960785 0.99215686\n",
            " 0.99215686 0.8039216  0.04313726 0.         0.16862746 0.6039216\n",
            " 0.         0.         0.         0.         0.         0.\n",
            " 0.         0.         0.         0.         0.         0.\n",
            " 0.         0.         0.         0.         0.         0.\n",
            " 0.         0.05490196 0.00392157 0.6039216  0.99215686 0.3529412\n",
            " 0.         0.         0.         0.         0.         0.\n",
            " 0.         0.         0.         0.         0.         0.\n",
            " 0.         0.         0.         0.         0.         0.\n",
            " 0.         0.         0.         0.         0.         0.\n",
            " 0.         0.54509807 0.99215686 0.74509805 0.00784314 0.\n",
            " 0.         0.         0.         0.         0.         0.\n",
            " 0.         0.         0.         0.         0.         0.\n",
            " 0.         0.         0.         0.         0.         0.\n",
            " 0.         0.         0.         0.         0.         0.04313726\n",
            " 0.74509805 0.99215686 0.27450982 0.         0.         0.\n",
            " 0.         0.         0.         0.         0.         0.\n",
            " 0.         0.         0.         0.         0.         0.\n",
            " 0.         0.         0.         0.         0.         0.\n",
            " 0.         0.         0.         0.         0.13725491 0.94509804\n",
            " 0.88235295 0.627451   0.42352942 0.00392157 0.         0.\n",
            " 0.         0.         0.         0.         0.         0.\n",
            " 0.         0.         0.         0.         0.         0.\n",
            " 0.         0.         0.         0.         0.         0.\n",
            " 0.         0.         0.         0.31764707 0.9411765  0.99215686\n",
            " 0.99215686 0.46666667 0.09803922 0.         0.         0.\n",
            " 0.         0.         0.         0.         0.         0.\n",
            " 0.         0.         0.         0.         0.         0.\n",
            " 0.         0.         0.         0.         0.         0.\n",
            " 0.         0.         0.1764706  0.7294118  0.99215686 0.99215686\n",
            " 0.5882353  0.10588235 0.         0.         0.         0.\n",
            " 0.         0.         0.         0.         0.         0.\n",
            " 0.         0.         0.         0.         0.         0.\n",
            " 0.         0.         0.         0.         0.         0.\n",
            " 0.         0.0627451  0.3647059  0.9882353  0.99215686 0.73333335\n",
            " 0.         0.         0.         0.         0.         0.\n",
            " 0.         0.         0.         0.         0.         0.\n",
            " 0.         0.         0.         0.         0.         0.\n",
            " 0.         0.         0.         0.         0.         0.\n",
            " 0.         0.9764706  0.99215686 0.9764706  0.2509804  0.\n",
            " 0.         0.         0.         0.         0.         0.\n",
            " 0.         0.         0.         0.         0.         0.\n",
            " 0.         0.         0.         0.         0.         0.\n",
            " 0.         0.         0.18039216 0.50980395 0.7176471  0.99215686\n",
            " 0.99215686 0.8117647  0.00784314 0.         0.         0.\n",
            " 0.         0.         0.         0.         0.         0.\n",
            " 0.         0.         0.         0.         0.         0.\n",
            " 0.         0.         0.         0.         0.15294118 0.5803922\n",
            " 0.8980392  0.99215686 0.99215686 0.99215686 0.98039216 0.7137255\n",
            " 0.         0.         0.         0.         0.         0.\n",
            " 0.         0.         0.         0.         0.         0.\n",
            " 0.         0.         0.         0.         0.         0.\n",
            " 0.09411765 0.44705883 0.8666667  0.99215686 0.99215686 0.99215686\n",
            " 0.99215686 0.7882353  0.30588236 0.         0.         0.\n",
            " 0.         0.         0.         0.         0.         0.\n",
            " 0.         0.         0.         0.         0.         0.\n",
            " 0.         0.         0.09019608 0.25882354 0.8352941  0.99215686\n",
            " 0.99215686 0.99215686 0.99215686 0.7764706  0.31764707 0.00784314\n",
            " 0.         0.         0.         0.         0.         0.\n",
            " 0.         0.         0.         0.         0.         0.\n",
            " 0.         0.         0.         0.         0.07058824 0.67058825\n",
            " 0.85882354 0.99215686 0.99215686 0.99215686 0.99215686 0.7647059\n",
            " 0.3137255  0.03529412 0.         0.         0.         0.\n",
            " 0.         0.         0.         0.         0.         0.\n",
            " 0.         0.         0.         0.         0.         0.\n",
            " 0.21568628 0.6745098  0.8862745  0.99215686 0.99215686 0.99215686\n",
            " 0.99215686 0.95686275 0.52156866 0.04313726 0.         0.\n",
            " 0.         0.         0.         0.         0.         0.\n",
            " 0.         0.         0.         0.         0.         0.\n",
            " 0.         0.         0.         0.         0.53333336 0.99215686\n",
            " 0.99215686 0.99215686 0.83137256 0.5294118  0.5176471  0.0627451\n",
            " 0.         0.         0.         0.         0.         0.\n",
            " 0.         0.         0.         0.         0.         0.\n",
            " 0.         0.         0.         0.         0.         0.\n",
            " 0.         0.         0.         0.         0.         0.\n",
            " 0.         0.         0.         0.         0.         0.\n",
            " 0.         0.         0.         0.         0.         0.\n",
            " 0.         0.         0.         0.         0.         0.\n",
            " 0.         0.         0.         0.         0.         0.\n",
            " 0.         0.         0.         0.         0.         0.\n",
            " 0.         0.         0.         0.         0.         0.\n",
            " 0.         0.         0.         0.         0.         0.\n",
            " 0.         0.         0.         0.         0.         0.\n",
            " 0.         0.         0.         0.         0.         0.\n",
            " 0.         0.         0.         0.         0.         0.\n",
            " 0.         0.         0.         0.         0.         0.\n",
            " 0.         0.         0.         0.         0.         0.\n",
            " 0.         0.         0.         0.        ]\n"
          ]
        }
      ]
    },
    {
      "cell_type": "code",
      "source": [
        "print(y_train.shape)\n",
        "print(y_test.shape)\n",
        "\n",
        "# Print the first 3 training and test labels\n",
        "print(y_train[0], y_train[1], y_train[2])\n",
        "print(y_test[0],  y_test[1],  y_test[2] )"
      ],
      "metadata": {
        "colab": {
          "base_uri": "https://localhost:8080/"
        },
        "id": "bIIWvaE-4sZh",
        "outputId": "7f73bf35-53fb-440b-d13a-0468afc3ee8f"
      },
      "execution_count": 11,
      "outputs": [
        {
          "output_type": "stream",
          "name": "stdout",
          "text": [
            "(60000,)\n",
            "(10000,)\n",
            "5 0 4\n",
            "7 2 1\n"
          ]
        }
      ]
    },
    {
      "cell_type": "code",
      "source": [
        "# Convert training and test labels into categorical vectors\n",
        "y_train = to_categorical(y_train, 10)\n",
        "y_test  = to_categorical(y_test , 10)\n",
        "\n",
        "print(y_train.shape)\n",
        "print(y_test.shape)\n",
        "\n",
        "# Print the first 3 training and test labels\n",
        "print(y_train[0], y_train[1], y_train[2])\n",
        "print(y_test[0],  y_test[1],  y_test[2] )"
      ],
      "metadata": {
        "colab": {
          "base_uri": "https://localhost:8080/"
        },
        "id": "_UEFBOc_4wf8",
        "outputId": "a33ff082-79b6-4db6-aa22-db8f73327d00"
      },
      "execution_count": 12,
      "outputs": [
        {
          "output_type": "stream",
          "name": "stdout",
          "text": [
            "(60000, 10)\n",
            "(10000, 10)\n",
            "[0. 0. 0. 0. 0. 1. 0. 0. 0. 0.] [1. 0. 0. 0. 0. 0. 0. 0. 0. 0.] [0. 0. 0. 0. 1. 0. 0. 0. 0. 0.]\n",
            "[0. 0. 0. 0. 0. 0. 0. 1. 0. 0.] [0. 0. 1. 0. 0. 0. 0. 0. 0. 0.] [0. 1. 0. 0. 0. 0. 0. 0. 0. 0.]\n"
          ]
        }
      ]
    },
    {
      "cell_type": "code",
      "source": [
        "print(\"input_shape =\", X_train[0].shape)\n",
        "\n",
        "layer_1_input_shape    = X_train[0].shape\n",
        "layer_1_num_of_outputs = 512\n",
        "layer_2_num_of_outputs = 512\n",
        "layer_3_num_of_outputs = 10"
      ],
      "metadata": {
        "colab": {
          "base_uri": "https://localhost:8080/"
        },
        "id": "-9w5_Mwd_s3I",
        "outputId": "b8a69df7-eeec-47d9-ec99-f801cfeb4f45"
      },
      "execution_count": 13,
      "outputs": [
        {
          "output_type": "stream",
          "name": "stdout",
          "text": [
            "input_shape = (784,)\n"
          ]
        }
      ]
    },
    {
      "cell_type": "code",
      "source": [
        "model = Sequential()\n",
        "\n",
        "layer_1 = Dense( layer_1_num_of_outputs, activation=\"relu\", input_shape=layer_1_input_shape )\n",
        "layer_2 = Dense( layer_2_num_of_outputs, activation=\"relu\")\n",
        "layer_3 = Dense( layer_3_num_of_outputs, activation=\"softmax\")\n",
        "\n",
        "model.add(layer_1)\n",
        "model.add(layer_2)\n",
        "model.add(layer_3)"
      ],
      "metadata": {
        "id": "yF67M3IO_vH7"
      },
      "execution_count": 14,
      "outputs": []
    },
    {
      "cell_type": "code",
      "source": [
        "model.compile( optimizer=\"adam\", loss=\"categorical_crossentropy\", metrics=[\"accuracy\"] )"
      ],
      "metadata": {
        "id": "wW6aODLj_xOt"
      },
      "execution_count": 15,
      "outputs": []
    },
    {
      "cell_type": "code",
      "source": [
        "model.summary()"
      ],
      "metadata": {
        "colab": {
          "base_uri": "https://localhost:8080/"
        },
        "id": "BjDh7rMR_z__",
        "outputId": "5db3c06e-890f-4592-f21e-9117e6c2deb3"
      },
      "execution_count": 16,
      "outputs": [
        {
          "output_type": "stream",
          "name": "stdout",
          "text": [
            "Model: \"sequential\"\n",
            "_________________________________________________________________\n",
            " Layer (type)                Output Shape              Param #   \n",
            "=================================================================\n",
            " dense (Dense)               (None, 512)               401920    \n",
            "                                                                 \n",
            " dense_1 (Dense)             (None, 512)               262656    \n",
            "                                                                 \n",
            " dense_2 (Dense)             (None, 10)                5130      \n",
            "                                                                 \n",
            "=================================================================\n",
            "Total params: 669706 (2.55 MB)\n",
            "Trainable params: 669706 (2.55 MB)\n",
            "Non-trainable params: 0 (0.00 Byte)\n",
            "_________________________________________________________________\n"
          ]
        }
      ]
    },
    {
      "cell_type": "code",
      "source": [
        "def print_layer_info(layer_no, num_inputs, num_outputs):\n",
        "   print(\"Layer Number =>\", layer_no)\n",
        "   print(\"Number of inputs  =\", num_inputs)\n",
        "   print(\"Number of outputs =\", num_outputs)\n",
        "   print(\"Number of parameters =\", (num_inputs + 1) * num_outputs)  # + 1 are the biases\n",
        "\n",
        "print_layer_info( 1, layer_1_input_shape[0], layer_1_num_of_outputs )\n",
        "print()\n",
        "print_layer_info( 2, layer_1_num_of_outputs, layer_2_num_of_outputs )\n",
        "print()\n",
        "print_layer_info( 3, layer_2_num_of_outputs, layer_3_num_of_outputs )"
      ],
      "metadata": {
        "colab": {
          "base_uri": "https://localhost:8080/"
        },
        "id": "OQ_xdavUBLKH",
        "outputId": "fef8eb3d-cb53-45b3-fa8a-71e8ac7b9500"
      },
      "execution_count": 17,
      "outputs": [
        {
          "output_type": "stream",
          "name": "stdout",
          "text": [
            "Layer Number => 1\n",
            "Number of inputs  = 784\n",
            "Number of outputs = 512\n",
            "Number of parameters = 401920\n",
            "\n",
            "Layer Number => 2\n",
            "Number of inputs  = 512\n",
            "Number of outputs = 512\n",
            "Number of parameters = 262656\n",
            "\n",
            "Layer Number => 3\n",
            "Number of inputs  = 512\n",
            "Number of outputs = 10\n",
            "Number of parameters = 5130\n"
          ]
        }
      ]
    },
    {
      "cell_type": "code",
      "source": [
        "def train(num_of_epochs, batch_size):\n",
        "  print(\"Number of epochs =\", num_of_epochs)\n",
        "  print(\"Batch size =\", batch_size)\n",
        "  print(\"Number of batches =\", num_of_training_images / batch_size)\n",
        "\n",
        "  history = model.fit(\n",
        "                      X_train, y_train,\n",
        "                      epochs = num_of_epochs,\n",
        "                      batch_size = batch_size,\n",
        "                      validation_data = (X_test, y_test)\n",
        "                     ).history\n",
        "  return history"
      ],
      "metadata": {
        "id": "ZAeEcEL-_6H7"
      },
      "execution_count": 18,
      "outputs": []
    },
    {
      "cell_type": "code",
      "source": [
        "num_of_epochs = 5\n",
        "\n",
        "history0 = train(num_of_epochs = num_of_epochs, batch_size = 16)\n",
        "\n",
        "print(history0)"
      ],
      "metadata": {
        "colab": {
          "base_uri": "https://localhost:8080/"
        },
        "id": "aw2DlYtt_8xM",
        "outputId": "616a932c-d263-4797-fa2f-065a4096fff1"
      },
      "execution_count": null,
      "outputs": [
        {
          "output_type": "stream",
          "name": "stdout",
          "text": [
            "Number of epochs = 5\n",
            "Batch size = 16\n",
            "Number of batches = 3750.0\n",
            "Epoch 1/5\n",
            "3750/3750 [==============================] - 39s 10ms/step - loss: 0.1861 - accuracy: 0.9428 - val_loss: 0.1120 - val_accuracy: 0.9643\n",
            "Epoch 2/5\n",
            "3750/3750 [==============================] - 39s 10ms/step - loss: 0.0858 - accuracy: 0.9738 - val_loss: 0.1042 - val_accuracy: 0.9708\n",
            "Epoch 3/5\n",
            "3750/3750 [==============================] - 38s 10ms/step - loss: 0.0621 - accuracy: 0.9809 - val_loss: 0.0820 - val_accuracy: 0.9753\n",
            "Epoch 4/5\n",
            "3750/3750 [==============================] - 38s 10ms/step - loss: 0.0506 - accuracy: 0.9842 - val_loss: 0.0779 - val_accuracy: 0.9789\n",
            "Epoch 5/5\n",
            "3750/3750 [==============================] - 38s 10ms/step - loss: 0.0406 - accuracy: 0.9873 - val_loss: 0.0970 - val_accuracy: 0.9755\n",
            "{'loss': [0.18606655299663544, 0.0858127772808075, 0.06205184757709503, 0.050620123744010925, 0.04058436304330826], 'accuracy': [0.9428333044052124, 0.973800003528595, 0.9809166789054871, 0.9842000007629395, 0.987333357334137], 'val_loss': [0.11200924217700958, 0.10422896593809128, 0.08196799457073212, 0.07785867899656296, 0.09703557938337326], 'val_accuracy': [0.9642999768257141, 0.97079998254776, 0.9753000140190125, 0.9789000153541565, 0.9754999876022339]}\n"
          ]
        }
      ]
    },
    {
      "cell_type": "code",
      "source": [
        "from keras import regularizers\n",
        "\n",
        "model = Sequential()\n",
        "\n",
        "# Define regularizer\n",
        "regularizer = regularizers.l2(0.01)  # Adjust the regularization strength as needed\n",
        "\n",
        "layer_1 = Dense(layer_1_num_of_outputs, activation=\"relu\", kernel_regularizer=regularizer, input_shape=layer_1_input_shape)\n",
        "layer_2 = Dense(layer_2_num_of_outputs, activation=\"relu\", kernel_regularizer=regularizer)\n",
        "layer_3 = Dense(layer_3_num_of_outputs, activation=\"softmax\", kernel_regularizer=regularizer)\n",
        "\n",
        "model.add(layer_1)\n",
        "model.add(layer_2)\n",
        "model.add(layer_3)\n"
      ],
      "metadata": {
        "id": "CPxOYasQC39Z"
      },
      "execution_count": 19,
      "outputs": []
    },
    {
      "cell_type": "code",
      "source": [
        "model.compile( optimizer=\"adam\", loss=\"categorical_crossentropy\", metrics=[\"accuracy\"] )"
      ],
      "metadata": {
        "id": "7qIb2d4GC-5c"
      },
      "execution_count": 20,
      "outputs": []
    },
    {
      "cell_type": "code",
      "source": [
        "model.summary()"
      ],
      "metadata": {
        "colab": {
          "base_uri": "https://localhost:8080/"
        },
        "id": "HYlprc_SDCDx",
        "outputId": "5a3719ac-6bec-4cc5-ca65-0d0ff00eb152"
      },
      "execution_count": 21,
      "outputs": [
        {
          "output_type": "stream",
          "name": "stdout",
          "text": [
            "Model: \"sequential_1\"\n",
            "_________________________________________________________________\n",
            " Layer (type)                Output Shape              Param #   \n",
            "=================================================================\n",
            " dense_3 (Dense)             (None, 512)               401920    \n",
            "                                                                 \n",
            " dense_4 (Dense)             (None, 512)               262656    \n",
            "                                                                 \n",
            " dense_5 (Dense)             (None, 10)                5130      \n",
            "                                                                 \n",
            "=================================================================\n",
            "Total params: 669706 (2.55 MB)\n",
            "Trainable params: 669706 (2.55 MB)\n",
            "Non-trainable params: 0 (0.00 Byte)\n",
            "_________________________________________________________________\n"
          ]
        }
      ]
    },
    {
      "cell_type": "code",
      "source": [
        "def print_layer_info(layer_no, num_inputs, num_outputs):\n",
        "   print(\"Layer Number =>\", layer_no)\n",
        "   print(\"Number of inputs  =\", num_inputs)\n",
        "   print(\"Number of outputs =\", num_outputs)\n",
        "   print(\"Number of parameters =\", (num_inputs + 1) * num_outputs)  # + 1 are the biases\n",
        "\n",
        "print_layer_info( 1, layer_1_input_shape[0], layer_1_num_of_outputs )\n",
        "print()\n",
        "print_layer_info( 2, layer_1_num_of_outputs, layer_2_num_of_outputs )\n",
        "print()\n",
        "print_layer_info( 3, layer_2_num_of_outputs, layer_3_num_of_outputs )"
      ],
      "metadata": {
        "colab": {
          "base_uri": "https://localhost:8080/"
        },
        "id": "817S9NDrDH70",
        "outputId": "8b62ac62-3dc4-42a7-dfe7-e77bc9f0c31a"
      },
      "execution_count": 22,
      "outputs": [
        {
          "output_type": "stream",
          "name": "stdout",
          "text": [
            "Layer Number => 1\n",
            "Number of inputs  = 784\n",
            "Number of outputs = 512\n",
            "Number of parameters = 401920\n",
            "\n",
            "Layer Number => 2\n",
            "Number of inputs  = 512\n",
            "Number of outputs = 512\n",
            "Number of parameters = 262656\n",
            "\n",
            "Layer Number => 3\n",
            "Number of inputs  = 512\n",
            "Number of outputs = 10\n",
            "Number of parameters = 5130\n"
          ]
        }
      ]
    },
    {
      "cell_type": "code",
      "source": [
        "def train(num_of_epochs, batch_size):\n",
        "  print(\"Number of epochs =\", num_of_epochs)\n",
        "  print(\"Batch size =\", batch_size)\n",
        "  print(\"Number of batches =\", num_of_training_images / batch_size)\n",
        "\n",
        "  history = model.fit(\n",
        "                      X_train, y_train,\n",
        "                      epochs = num_of_epochs,\n",
        "                      batch_size = batch_size,\n",
        "                      validation_data = (X_test, y_test)\n",
        "                     ).history\n",
        "  return history"
      ],
      "metadata": {
        "id": "ohv8c11mDLeU"
      },
      "execution_count": 23,
      "outputs": []
    },
    {
      "cell_type": "code",
      "source": [
        "num_of_epochs = 5\n",
        "\n",
        "history0 = train(num_of_epochs = num_of_epochs, batch_size = 16)\n",
        "\n",
        "print(history0)"
      ],
      "metadata": {
        "colab": {
          "base_uri": "https://localhost:8080/"
        },
        "id": "20Pd4f-cDOcB",
        "outputId": "dbef08c2-16c0-4069-dd6e-dcf45148a4be"
      },
      "execution_count": null,
      "outputs": [
        {
          "output_type": "stream",
          "name": "stdout",
          "text": [
            "Number of epochs = 5\n",
            "Batch size = 16\n",
            "Number of batches = 3750.0\n",
            "Epoch 1/5\n",
            "3750/3750 [==============================] - 43s 11ms/step - loss: 1.0512 - accuracy: 0.8791 - val_loss: 0.7899 - val_accuracy: 0.9074\n",
            "Epoch 2/5\n",
            "3750/3750 [==============================] - 43s 11ms/step - loss: 0.8109 - accuracy: 0.8981 - val_loss: 0.7776 - val_accuracy: 0.9067\n",
            "Epoch 3/5\n",
            "3750/3750 [==============================] - 43s 11ms/step - loss: 0.7908 - accuracy: 0.9037 - val_loss: 0.8181 - val_accuracy: 0.8863\n",
            "Epoch 4/5\n",
            "3750/3750 [==============================] - 42s 11ms/step - loss: 0.7837 - accuracy: 0.9046 - val_loss: 0.7627 - val_accuracy: 0.9135\n",
            "Epoch 5/5\n",
            "3750/3750 [==============================] - 42s 11ms/step - loss: 0.7792 - accuracy: 0.9056 - val_loss: 0.7705 - val_accuracy: 0.9053\n",
            "{'loss': [1.0511900186538696, 0.8108586668968201, 0.7907678484916687, 0.7836685180664062, 0.7791556119918823], 'accuracy': [0.8791333436965942, 0.8980833292007446, 0.9036999940872192, 0.9046499729156494, 0.9056166410446167], 'val_loss': [0.7899451851844788, 0.7775969505310059, 0.8180893659591675, 0.762683093547821, 0.7704585194587708], 'val_accuracy': [0.9074000120162964, 0.9067000150680542, 0.8863000273704529, 0.9135000109672546, 0.9053000211715698]}\n"
          ]
        }
      ]
    },
    {
      "cell_type": "code",
      "source": [
        "from keras import regularizers\n",
        "\n",
        "model = Sequential()\n",
        "\n",
        "# Define regularizer\n",
        "regularizer = regularizers.l2(0.01)  # Adjust the regularization strength as needed\n",
        "\n",
        "layer_1 = Dense(layer_1_num_of_outputs, activation=\"relu\", kernel_regularizer=regularizer, input_shape=layer_1_input_shape)\n",
        "layer_2 = Dense(layer_2_num_of_outputs, activation=\"relu\", kernel_regularizer=regularizer)\n",
        "layer_3 = Dense(layer_3_num_of_outputs, activation=\"relu\", kernel_regularizer=regularizer)  # Additional dense layer\n",
        "layer_4 = Dense(128, activation=\"relu\", kernel_regularizer=regularizer)  # Additional dense layer\n",
        "layer_5 = Dense(64, activation=\"relu\", kernel_regularizer=regularizer)  # Additional dense layer\n",
        "layer_6 = Dense(32, activation=\"relu\", kernel_regularizer=regularizer)  # Additional dense layer\n",
        "layer_7 = Dense(16, activation=\"relu\", kernel_regularizer=regularizer)  # Additional dense layer\n",
        "layer_8 = Dense(8, activation=\"relu\", kernel_regularizer=regularizer)  # Additional dense layer\n",
        "layer_9 = Dense(4, activation=\"relu\", kernel_regularizer=regularizer)  # Additional dense layer\n",
        "layer_10 = Dense(layer_3_num_of_outputs, activation=\"softmax\", kernel_regularizer=regularizer)\n",
        "\n",
        "model.add(layer_1)\n",
        "model.add(layer_2)\n",
        "model.add(layer_3)\n",
        "model.add(layer_4)\n",
        "model.add(layer_5)\n",
        "model.add(layer_6)\n",
        "model.add(layer_7)\n",
        "model.add(layer_8)\n",
        "model.add(layer_9)\n",
        "model.add(layer_10)\n"
      ],
      "metadata": {
        "id": "7hUbJQZSERfj"
      },
      "execution_count": 24,
      "outputs": []
    },
    {
      "cell_type": "code",
      "source": [
        "from keras.optimizers import Adam\n",
        "\n",
        "# Define a faster learning rate\n",
        "learning_rate = 0.001  # You can adjust this value as needed\n",
        "\n",
        "# Compile the model with the specified learning rate\n",
        "optimizer = Adam(learning_rate=learning_rate)\n",
        "model.compile(optimizer=optimizer, loss=\"categorical_crossentropy\", metrics=[\"accuracy\"])\n"
      ],
      "metadata": {
        "id": "ifJrZkTjEiCv"
      },
      "execution_count": 25,
      "outputs": []
    },
    {
      "cell_type": "code",
      "source": [
        "def train(num_of_epochs, batch_size):\n",
        "  print(\"Number of epochs =\", num_of_epochs)\n",
        "  print(\"Batch size =\", batch_size)\n",
        "  print(\"Number of batches =\", num_of_training_images / batch_size)\n",
        "\n",
        "  history = model.fit(\n",
        "                      X_train, y_train,\n",
        "                      epochs = num_of_epochs,\n",
        "                      batch_size = batch_size,\n",
        "                      validation_data = (X_test, y_test)\n",
        "                     ).history\n",
        "  return history"
      ],
      "metadata": {
        "id": "KwFxhhxKEpq6"
      },
      "execution_count": 26,
      "outputs": []
    },
    {
      "cell_type": "code",
      "source": [
        "num_of_epochs = 5\n",
        "\n",
        "history0 = train(num_of_epochs = num_of_epochs, batch_size = 16)\n",
        "\n",
        "print(history0)"
      ],
      "metadata": {
        "colab": {
          "base_uri": "https://localhost:8080/"
        },
        "id": "SayWesvyEpfA",
        "outputId": "355f943a-59ee-4787-ead0-3750fcc1435f"
      },
      "execution_count": 27,
      "outputs": [
        {
          "output_type": "stream",
          "name": "stdout",
          "text": [
            "Number of epochs = 5\n",
            "Batch size = 16\n",
            "Number of batches = 3750.0\n",
            "Epoch 1/5\n",
            "3750/3750 [==============================] - 55s 14ms/step - loss: 2.4035 - accuracy: 0.1118 - val_loss: 2.3010 - val_accuracy: 0.1135\n",
            "Epoch 2/5\n",
            "3750/3750 [==============================] - 43s 12ms/step - loss: 2.3013 - accuracy: 0.1124 - val_loss: 2.3012 - val_accuracy: 0.1135\n",
            "Epoch 3/5\n",
            "3750/3750 [==============================] - 45s 12ms/step - loss: 2.3014 - accuracy: 0.1124 - val_loss: 2.3011 - val_accuracy: 0.1135\n",
            "Epoch 4/5\n",
            "3750/3750 [==============================] - 44s 12ms/step - loss: 2.3014 - accuracy: 0.1124 - val_loss: 2.3011 - val_accuracy: 0.1135\n",
            "Epoch 5/5\n",
            "3750/3750 [==============================] - 55s 15ms/step - loss: 2.3014 - accuracy: 0.1124 - val_loss: 2.3012 - val_accuracy: 0.1135\n",
            "{'loss': [2.4034762382507324, 2.3013486862182617, 2.301422357559204, 2.301392078399658, 2.3013930320739746], 'accuracy': [0.11181666702032089, 0.11236666887998581, 0.11236666887998581, 0.11236666887998581, 0.11236666887998581], 'val_loss': [2.30100679397583, 2.3011772632598877, 2.301115036010742, 2.301100969314575, 2.301203727722168], 'val_accuracy': [0.11349999904632568, 0.11349999904632568, 0.11349999904632568, 0.11349999904632568, 0.11349999904632568]}\n"
          ]
        }
      ]
    },
    {
      "cell_type": "markdown",
      "source": [
        "**ENHANCEMENT**"
      ],
      "metadata": {
        "id": "XP7s7e7gc6u5"
      }
    },
    {
      "cell_type": "code",
      "source": [
        "from keras.datasets import mnist\n",
        "from keras.utils import to_categorical\n",
        "\n",
        "# Load the MNIST dataset\n",
        "(X_train, y_train), (X_test, y_test) = mnist.load_data()\n",
        "\n",
        "# Data preparation for neural network\n",
        "# Convert y_train to categorical\n",
        "Y_train = to_categorical(y_train, num_classes=10)\n",
        "\n",
        "# Normalize X_train and X_test\n",
        "X_train = X_train / 255.0\n",
        "X_test = X_test / 255.0\n",
        "\n",
        "# Reshape X_train and X_test\n",
        "X_train = X_train.reshape(-1, 28, 28, 1)\n",
        "X_test = X_test.reshape(-1, 28, 28, 1)\n"
      ],
      "metadata": {
        "id": "VMhFh39Vc2sS"
      },
      "execution_count": 29,
      "outputs": []
    },
    {
      "cell_type": "code",
      "source": [
        "\n",
        "plt.figure(figsize=(15,4.5))\n",
        "for i in range(30):\n",
        "    plt.subplot(3, 10, i+1)\n",
        "    plt.imshow(X_train[i].reshape((28,28)),cmap=plt.cm.binary)\n",
        "    plt.axis('off')\n",
        "plt.subplots_adjust(wspace=-0.1, hspace=-0.1)\n",
        "plt.show()"
      ],
      "metadata": {
        "colab": {
          "base_uri": "https://localhost:8080/",
          "height": 383
        },
        "id": "b0zXqRcic53o",
        "outputId": "fe5b4772-5c05-4c2e-cce2-cfd268187608"
      },
      "execution_count": 31,
      "outputs": [
        {
          "output_type": "display_data",
          "data": {
            "text/plain": [
              "<Figure size 1500x450 with 30 Axes>"
            ],
            "image/png": "[encoded data removed]"
          },
          "metadata": {}
        }
      ]
    },
    {
      "cell_type": "code",
      "source": [
        "# CREATE MORE IMAGES VIA DATA AUGMENTATION\n",
        "datagen = ImageDataGenerator(\n",
        "        rotation_range=10,\n",
        "        zoom_range = 0.10,\n",
        "        width_shift_range=0.1,\n",
        "        height_shift_range=0.1)"
      ],
      "metadata": {
        "id": "LQ3aTDZIc_n6"
      },
      "execution_count": 32,
      "outputs": []
    },
    {
      "cell_type": "code",
      "source": [
        "# PREVIEW AUGMENTED IMAGES\n",
        "X_train3 = X_train[9,].reshape((1,28,28,1))\n",
        "Y_train3 = Y_train[9,].reshape((1,10))\n",
        "plt.figure(figsize=(15,4.5))\n",
        "for i in range(30):\n",
        "    plt.subplot(3, 10, i+1)\n",
        "    X_train2, Y_train2 = datagen.flow(X_train3,Y_train3).next()\n",
        "    plt.imshow(X_train2[0].reshape((28,28)),cmap=plt.cm.binary)\n",
        "    plt.axis('off')\n",
        "    if i==9: X_train3 = X_train[11,].reshape((1,28,28,1))\n",
        "    if i==19: X_train3 = X_train[18,].reshape((1,28,28,1))\n",
        "plt.subplots_adjust(wspace=-0.1, hspace=-0.1)\n",
        "plt.show()"
      ],
      "metadata": {
        "colab": {
          "base_uri": "https://localhost:8080/",
          "height": 383
        },
        "id": "f1YcUDsDdB_Q",
        "outputId": "6078392f-78ab-49c9-c974-5bd58632a9d2"
      },
      "execution_count": 33,
      "outputs": [
        {
          "output_type": "display_data",
          "data": {
            "text/plain": [
              "<Figure size 1500x450 with 30 Axes>"
            ],
            "image/png": "[encoded data removed]"
          },
          "metadata": {}
        }
      ]
    },
    {
      "cell_type": "code",
      "source": [
        "from keras.models import Sequential\n",
        "from keras.layers import Conv2D, MaxPooling2D, Flatten, Dense\n",
        "\n",
        "# Define your CNN model\n",
        "model = Sequential()\n",
        "model.add(Conv2D(32, (3, 3), activation='relu', input_shape=(28, 28, 1)))\n",
        "model.add(MaxPooling2D((2, 2)))\n",
        "model.add(Conv2D(64, (3, 3), activation='relu'))\n",
        "model.add(MaxPooling2D((2, 2)))\n",
        "model.add(Conv2D(64, (3, 3), activation='relu'))\n",
        "model.add(Flatten())\n",
        "model.add(Dense(64, activation='relu'))\n",
        "model.add(Dense(10, activation='softmax'))\n",
        "\n",
        "# Compile the model\n",
        "model.compile(optimizer='adam',\n",
        "              loss='categorical_crossentropy',\n",
        "              metrics=['accuracy'])\n"
      ],
      "metadata": {
        "id": "oIDevSpUdGEe"
      },
      "execution_count": 36,
      "outputs": []
    },
    {
      "cell_type": "code",
      "source": [
        "from keras.callbacks import LearningRateScheduler, EarlyStopping\n",
        "from sklearn.model_selection import train_test_split\n",
        "\n",
        "# Decrease learning rate each epoch\n",
        "initial_learning_rate = 0.01\n",
        "annealer = LearningRateScheduler(lambda x: initial_learning_rate * 0.95 ** x)\n",
        "\n",
        "# Early stopping callback\n",
        "early_stopping = EarlyStopping(monitor='val_loss', patience=5, restore_best_weights=True)\n",
        "\n",
        "# Set batch size and epochs\n",
        "batch_size = 16\n",
        "epochs = 5\n",
        "\n",
        "# Split data into training and validation sets\n",
        "X_train2, X_val2, Y_train2, Y_val2 = train_test_split(X_train, Y_train, test_size=0.1)\n",
        "\n",
        "# Compile your model first\n",
        "model.compile(optimizer='adam', loss='categorical_crossentropy', metrics=['accuracy'])\n",
        "\n",
        "# Train the model\n",
        "history = model.fit(\n",
        "    datagen.flow(X_train2, Y_train2, batch_size=batch_size),\n",
        "    epochs=epochs,\n",
        "    steps_per_epoch=len(X_train2) // batch_size,\n",
        "    validation_data=(X_val2, Y_val2),\n",
        "    callbacks=[annealer, early_stopping],\n",
        "    verbose=1\n",
        ")\n",
        "\n",
        "print(\"Epochs={0:d}, Train accuracy={1:.5f}, Validation accuracy={2:.5f}\".format(\n",
        "    len(history.history['accuracy']),\n",
        "    max(history.history['accuracy']),\n",
        "    max(history.history['val_accuracy'])\n",
        "))\n"
      ],
      "metadata": {
        "colab": {
          "base_uri": "https://localhost:8080/"
        },
        "id": "KpXYiwlHdL5S",
        "outputId": "30d17bef-ee80-49ec-d52d-37fa48bf88de"
      },
      "execution_count": 38,
      "outputs": [
        {
          "output_type": "stream",
          "name": "stdout",
          "text": [
            "Epoch 1/5\n",
            "3375/3375 [==============================] - 73s 21ms/step - loss: 0.2465 - accuracy: 0.9316 - val_loss: 0.1325 - val_accuracy: 0.9620 - lr: 0.0100\n",
            "Epoch 2/5\n",
            "3375/3375 [==============================] - 67s 20ms/step - loss: 0.2289 - accuracy: 0.9381 - val_loss: 0.1443 - val_accuracy: 0.9650 - lr: 0.0095\n",
            "Epoch 3/5\n",
            "3375/3375 [==============================] - 67s 20ms/step - loss: 0.2121 - accuracy: 0.9424 - val_loss: 0.1828 - val_accuracy: 0.9582 - lr: 0.0090\n",
            "Epoch 4/5\n",
            "3375/3375 [==============================] - 67s 20ms/step - loss: 0.2003 - accuracy: 0.9474 - val_loss: 0.1553 - val_accuracy: 0.9643 - lr: 0.0086\n",
            "Epoch 5/5\n",
            "3375/3375 [==============================] - 67s 20ms/step - loss: 0.1942 - accuracy: 0.9484 - val_loss: 0.1101 - val_accuracy: 0.9722 - lr: 0.0081\n",
            "Epochs=5, Train accuracy=0.94843, Validation accuracy=0.97217\n"
          ]
        }
      ]
    },
    {
      "cell_type": "code",
      "source": [
        " #Predictions on validation set\n",
        "predictions = model.predict(X_val2)\n",
        "\n",
        "# Displaying first 10 predictions\n",
        "for i in range(10):\n",
        "    print(\"Predicted:\", np.argmax(predictions[i]), \"Actual:\", np.argmax(Y_val2[i]))"
      ],
      "metadata": {
        "id": "vgyjUDX4d_GS",
        "colab": {
          "base_uri": "https://localhost:8080/"
        },
        "outputId": "c8d47da2-2e1c-4a0c-e5f3-5f3d7fbfdb09"
      },
      "execution_count": 41,
      "outputs": [
        {
          "output_type": "stream",
          "name": "stdout",
          "text": [
            "188/188 [==============================] - 3s 13ms/step\n",
            "Predicted: 1 Actual: 1\n",
            "Predicted: 2 Actual: 2\n",
            "Predicted: 9 Actual: 9\n",
            "Predicted: 1 Actual: 1\n",
            "Predicted: 2 Actual: 2\n",
            "Predicted: 1 Actual: 1\n",
            "Predicted: 1 Actual: 1\n",
            "Predicted: 6 Actual: 6\n",
            "Predicted: 3 Actual: 3\n",
            "Predicted: 3 Actual: 3\n"
          ]
        }
      ]
    },
    {
      "cell_type": "markdown",
      "source": [
        "**CONVERTING THE Y-TRAIN ANDTHE Y-TEST TO CATEGORICAL FORMAT ADDING ALSO DATA AUGMENTATION TO VIEW MORE IMAGES**"
      ],
      "metadata": {
        "id": "Ug9imKQ_sHUS"
      }
    },
    {
      "cell_type": "code",
      "source": [
        "from keras.utils import to_categorical\n",
        "from keras.preprocessing.image import ImageDataGenerator\n",
        "\n",
        "# Create ImageDataGenerator for data augmentation\n",
        "datagen = ImageDataGenerator(\n",
        "    rotation_range=10,\n",
        "    zoom_range=0.10,\n",
        "    width_shift_range=0.1,\n",
        "    height_shift_range=0.1\n",
        ")\n",
        "\n",
        "# Apply data augmentation to the training data\n",
        "# This will generate augmented images and append them to the original training dataset\n",
        "augmented_data = []\n",
        "for X_batch, y_batch in datagen.flow(X_train.reshape(-1, image_height, image_width, 1), y_train, batch_size=1, shuffle=False):\n",
        "    augmented_data.append((X_batch.reshape(image_height, image_width), y_batch))\n",
        "    if len(augmented_data) >= num_of_training_images:\n",
        "        break\n",
        "\n",
        "# Convert the augmented data back to numpy arrays\n",
        "X_augmented_train = np.array([item[0] for item in augmented_data])\n",
        "y_augmented_train = np.array([item[1] for item in augmented_data])\n",
        "\n",
        "# Print the shapes of augmented training and test data\n",
        "print(\"Augmented X_train shape:\", X_augmented_train.shape)\n",
        "print(\"Augmented y_train shape:\", y_augmented_train.shape)\n",
        "print(\"Original X_test shape:\", X_test.shape)\n",
        "print(\"Original y_test shape:\", y_test.shape)\n",
        "\n",
        "# Convert training and test labels into categorical vectors\n",
        "y_augmented_train = to_categorical(y_augmented_train, 10)\n",
        "y_test = to_categorical(y_test, 10)\n",
        "\n",
        "# Print the shapes of categorical training and test labels\n",
        "print(\"Categorical y_train shape:\", y_augmented_train.shape)\n",
        "print(\"Categorical y_test shape:\", y_test.shape)\n"
      ],
      "metadata": {
        "colab": {
          "base_uri": "https://localhost:8080/"
        },
        "id": "7auQEvTEsjpP",
        "outputId": "814383a7-0538-4cc9-a83d-ffb3866cebd3"
      },
      "execution_count": 42,
      "outputs": [
        {
          "output_type": "stream",
          "name": "stdout",
          "text": [
            "Augmented X_train shape: (60000, 28, 28)\n",
            "Augmented y_train shape: (60000, 1)\n",
            "Original X_test shape: (10000, 28, 28, 1)\n",
            "Original y_test shape: (10000,)\n",
            "Categorical y_train shape: (60000, 10)\n",
            "Categorical y_test shape: (10000, 10)\n"
          ]
        }
      ]
    },
    {
      "cell_type": "markdown",
      "source": [
        "**PREVIEW OF THE AUGMENTED IMAGES**"
      ],
      "metadata": {
        "id": "8tH3xY_fsyzG"
      }
    },
    {
      "cell_type": "code",
      "source": [
        "plt.figure(figsize=(15, 4.5))\n",
        "\n",
        "# Loop through to generate and plot augmented images\n",
        "for i in range(30):\n",
        "    plt.subplot(3, 10, i + 1)\n",
        "    X_train_augmented, Y_train_augmented = datagen.flow(X_train3, Y_train3).next()\n",
        "    plt.imshow(X_train_augmented[0].reshape((28, 28)), cmap=plt.cm.binary)\n",
        "    plt.axis('off')\n",
        "    if i == 9:\n",
        "        X_train3 = X_train[11].reshape((1, 28, 28, 1))  # Reshape to rank 4 tensor\n",
        "    if i == 19:\n",
        "        X_train3 = X_train[18].reshape((1, 28, 28, 1))  # Reshape to rank 4 tensor\n",
        "\n",
        "# Adjust subplot spacing\n",
        "plt.subplots_adjust(wspace=-0.1, hspace=-0.1)\n",
        "plt.show()"
      ],
      "metadata": {
        "colab": {
          "base_uri": "https://localhost:8080/",
          "height": 383
        },
        "id": "AIv-s4aysyle",
        "outputId": "5b9ed82f-e779-4c80-cb65-9ca7420a2cb4"
      },
      "execution_count": 43,
      "outputs": [
        {
          "output_type": "display_data",
          "data": {
            "text/plain": [
              "<Figure size 1500x450 with 30 Axes>"
            ],
            "image/png": "[encoded data removed]"
          },
          "metadata": {}
        }
      ]
    }
  ]
}